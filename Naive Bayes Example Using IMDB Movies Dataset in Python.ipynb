{
 "cells": [
  {
   "cell_type": "code",
   "execution_count": 1,
   "id": "8242fe07",
   "metadata": {},
   "outputs": [],
   "source": [
    "import pandas as pd\n",
    "import numpy as np\n",
    "import matplotlib.pyplot as plt\n",
    "%matplotlib inline"
   ]
  },
  {
   "cell_type": "code",
   "execution_count": 2,
   "id": "6a913537",
   "metadata": {},
   "outputs": [],
   "source": [
    "df=pd.read_csv('movies 2016 watched.csv').dropna()"
   ]
  },
  {
   "cell_type": "code",
   "execution_count": 3,
   "id": "19e20f5c",
   "metadata": {},
   "outputs": [
    {
     "data": {
      "text/html": [
       "<div>\n",
       "<style scoped>\n",
       "    .dataframe tbody tr th:only-of-type {\n",
       "        vertical-align: middle;\n",
       "    }\n",
       "\n",
       "    .dataframe tbody tr th {\n",
       "        vertical-align: top;\n",
       "    }\n",
       "\n",
       "    .dataframe thead th {\n",
       "        text-align: right;\n",
       "    }\n",
       "</style>\n",
       "<table border=\"1\" class=\"dataframe\">\n",
       "  <thead>\n",
       "    <tr style=\"text-align: right;\">\n",
       "      <th></th>\n",
       "      <th>Rank</th>\n",
       "      <th>Runtime</th>\n",
       "      <th>Genre</th>\n",
       "      <th>Rating</th>\n",
       "      <th>Metascore</th>\n",
       "      <th>Votes</th>\n",
       "      <th>Gross_Earning</th>\n",
       "      <th>watched</th>\n",
       "    </tr>\n",
       "  </thead>\n",
       "  <tbody>\n",
       "    <tr>\n",
       "      <th>0</th>\n",
       "      <td>2</td>\n",
       "      <td>123</td>\n",
       "      <td>Action</td>\n",
       "      <td>5.9</td>\n",
       "      <td>40.0</td>\n",
       "      <td>656097</td>\n",
       "      <td>325.10</td>\n",
       "      <td>Y</td>\n",
       "    </tr>\n",
       "    <tr>\n",
       "      <th>1</th>\n",
       "      <td>3</td>\n",
       "      <td>108</td>\n",
       "      <td>Action</td>\n",
       "      <td>8.0</td>\n",
       "      <td>65.0</td>\n",
       "      <td>958507</td>\n",
       "      <td>363.00</td>\n",
       "      <td>Y</td>\n",
       "    </tr>\n",
       "    <tr>\n",
       "      <th>2</th>\n",
       "      <td>4</td>\n",
       "      <td>115</td>\n",
       "      <td>Action</td>\n",
       "      <td>7.5</td>\n",
       "      <td>72.0</td>\n",
       "      <td>653299</td>\n",
       "      <td>232.60</td>\n",
       "      <td>Y</td>\n",
       "    </tr>\n",
       "    <tr>\n",
       "      <th>3</th>\n",
       "      <td>7</td>\n",
       "      <td>118</td>\n",
       "      <td>Action</td>\n",
       "      <td>7.6</td>\n",
       "      <td>72.0</td>\n",
       "      <td>194512</td>\n",
       "      <td>2.13</td>\n",
       "      <td>N</td>\n",
       "    </tr>\n",
       "    <tr>\n",
       "      <th>4</th>\n",
       "      <td>8</td>\n",
       "      <td>117</td>\n",
       "      <td>Action</td>\n",
       "      <td>6.5</td>\n",
       "      <td>60.0</td>\n",
       "      <td>215403</td>\n",
       "      <td>128.30</td>\n",
       "      <td>Y</td>\n",
       "    </tr>\n",
       "  </tbody>\n",
       "</table>\n",
       "</div>"
      ],
      "text/plain": [
       "   Rank  Runtime   Genre  Rating  Metascore   Votes  Gross_Earning watched\n",
       "0     2      123  Action     5.9       40.0  656097         325.10       Y\n",
       "1     3      108  Action     8.0       65.0  958507         363.00       Y\n",
       "2     4      115  Action     7.5       72.0  653299         232.60       Y\n",
       "3     7      118  Action     7.6       72.0  194512           2.13       N\n",
       "4     8      117  Action     6.5       60.0  215403         128.30       Y"
      ]
     },
     "execution_count": 3,
     "metadata": {},
     "output_type": "execute_result"
    }
   ],
   "source": [
    "#dropping unwanted variables\n",
    "df.drop(['Title','Description','Director','Actor'],axis=1,inplace=True)\n",
    "df.head()"
   ]
  },
  {
   "cell_type": "code",
   "execution_count": 4,
   "id": "8dcfb55a",
   "metadata": {},
   "outputs": [
    {
     "data": {
      "text/html": [
       "<div>\n",
       "<style scoped>\n",
       "    .dataframe tbody tr th:only-of-type {\n",
       "        vertical-align: middle;\n",
       "    }\n",
       "\n",
       "    .dataframe tbody tr th {\n",
       "        vertical-align: top;\n",
       "    }\n",
       "\n",
       "    .dataframe thead th {\n",
       "        text-align: right;\n",
       "    }\n",
       "</style>\n",
       "<table border=\"1\" class=\"dataframe\">\n",
       "  <thead>\n",
       "    <tr style=\"text-align: right;\">\n",
       "      <th></th>\n",
       "      <th>Rank</th>\n",
       "      <th>Runtime</th>\n",
       "      <th>Genre</th>\n",
       "      <th>Rating</th>\n",
       "      <th>Metascore</th>\n",
       "      <th>Votes</th>\n",
       "      <th>Gross_Earning</th>\n",
       "      <th>watched</th>\n",
       "    </tr>\n",
       "  </thead>\n",
       "  <tbody>\n",
       "    <tr>\n",
       "      <th>0</th>\n",
       "      <td>2</td>\n",
       "      <td>123</td>\n",
       "      <td>Action</td>\n",
       "      <td>5.9</td>\n",
       "      <td>40.0</td>\n",
       "      <td>656097</td>\n",
       "      <td>325.10</td>\n",
       "      <td>Y</td>\n",
       "    </tr>\n",
       "    <tr>\n",
       "      <th>1</th>\n",
       "      <td>3</td>\n",
       "      <td>108</td>\n",
       "      <td>Action</td>\n",
       "      <td>8.0</td>\n",
       "      <td>65.0</td>\n",
       "      <td>958507</td>\n",
       "      <td>363.00</td>\n",
       "      <td>Y</td>\n",
       "    </tr>\n",
       "    <tr>\n",
       "      <th>2</th>\n",
       "      <td>4</td>\n",
       "      <td>115</td>\n",
       "      <td>Action</td>\n",
       "      <td>7.5</td>\n",
       "      <td>72.0</td>\n",
       "      <td>653299</td>\n",
       "      <td>232.60</td>\n",
       "      <td>Y</td>\n",
       "    </tr>\n",
       "    <tr>\n",
       "      <th>3</th>\n",
       "      <td>7</td>\n",
       "      <td>118</td>\n",
       "      <td>Action</td>\n",
       "      <td>7.6</td>\n",
       "      <td>72.0</td>\n",
       "      <td>194512</td>\n",
       "      <td>2.13</td>\n",
       "      <td>N</td>\n",
       "    </tr>\n",
       "    <tr>\n",
       "      <th>4</th>\n",
       "      <td>8</td>\n",
       "      <td>117</td>\n",
       "      <td>Action</td>\n",
       "      <td>6.5</td>\n",
       "      <td>60.0</td>\n",
       "      <td>215403</td>\n",
       "      <td>128.30</td>\n",
       "      <td>Y</td>\n",
       "    </tr>\n",
       "  </tbody>\n",
       "</table>\n",
       "</div>"
      ],
      "text/plain": [
       "   Rank  Runtime   Genre  Rating  Metascore   Votes  Gross_Earning watched\n",
       "0     2      123  Action     5.9       40.0  656097         325.10       Y\n",
       "1     3      108  Action     8.0       65.0  958507         363.00       Y\n",
       "2     4      115  Action     7.5       72.0  653299         232.60       Y\n",
       "3     7      118  Action     7.6       72.0  194512           2.13       N\n",
       "4     8      117  Action     6.5       60.0  215403         128.30       Y"
      ]
     },
     "execution_count": 4,
     "metadata": {},
     "output_type": "execute_result"
    }
   ],
   "source": [
    "import copy\n",
    "df2=df.copy()\n",
    "df2.head()"
   ]
  },
  {
   "cell_type": "code",
   "execution_count": 5,
   "id": "da60583a",
   "metadata": {},
   "outputs": [
    {
     "data": {
      "text/html": [
       "<div>\n",
       "<style scoped>\n",
       "    .dataframe tbody tr th:only-of-type {\n",
       "        vertical-align: middle;\n",
       "    }\n",
       "\n",
       "    .dataframe tbody tr th {\n",
       "        vertical-align: top;\n",
       "    }\n",
       "\n",
       "    .dataframe thead th {\n",
       "        text-align: right;\n",
       "    }\n",
       "</style>\n",
       "<table border=\"1\" class=\"dataframe\">\n",
       "  <thead>\n",
       "    <tr style=\"text-align: right;\">\n",
       "      <th></th>\n",
       "      <th>Rank</th>\n",
       "      <th>Runtime</th>\n",
       "      <th>Genre</th>\n",
       "      <th>Rating</th>\n",
       "      <th>Metascore</th>\n",
       "      <th>Votes</th>\n",
       "      <th>Gross_Earning</th>\n",
       "      <th>watched</th>\n",
       "    </tr>\n",
       "  </thead>\n",
       "  <tbody>\n",
       "    <tr>\n",
       "      <th>0</th>\n",
       "      <td>2</td>\n",
       "      <td>123</td>\n",
       "      <td>0</td>\n",
       "      <td>5.9</td>\n",
       "      <td>40.0</td>\n",
       "      <td>656097</td>\n",
       "      <td>325.10</td>\n",
       "      <td>1</td>\n",
       "    </tr>\n",
       "    <tr>\n",
       "      <th>1</th>\n",
       "      <td>3</td>\n",
       "      <td>108</td>\n",
       "      <td>0</td>\n",
       "      <td>8.0</td>\n",
       "      <td>65.0</td>\n",
       "      <td>958507</td>\n",
       "      <td>363.00</td>\n",
       "      <td>1</td>\n",
       "    </tr>\n",
       "    <tr>\n",
       "      <th>2</th>\n",
       "      <td>4</td>\n",
       "      <td>115</td>\n",
       "      <td>0</td>\n",
       "      <td>7.5</td>\n",
       "      <td>72.0</td>\n",
       "      <td>653299</td>\n",
       "      <td>232.60</td>\n",
       "      <td>1</td>\n",
       "    </tr>\n",
       "    <tr>\n",
       "      <th>3</th>\n",
       "      <td>7</td>\n",
       "      <td>118</td>\n",
       "      <td>0</td>\n",
       "      <td>7.6</td>\n",
       "      <td>72.0</td>\n",
       "      <td>194512</td>\n",
       "      <td>2.13</td>\n",
       "      <td>0</td>\n",
       "    </tr>\n",
       "    <tr>\n",
       "      <th>4</th>\n",
       "      <td>8</td>\n",
       "      <td>117</td>\n",
       "      <td>0</td>\n",
       "      <td>6.5</td>\n",
       "      <td>60.0</td>\n",
       "      <td>215403</td>\n",
       "      <td>128.30</td>\n",
       "      <td>1</td>\n",
       "    </tr>\n",
       "  </tbody>\n",
       "</table>\n",
       "</div>"
      ],
      "text/plain": [
       "   Rank  Runtime  Genre  Rating  Metascore   Votes  Gross_Earning  watched\n",
       "0     2      123      0     5.9       40.0  656097         325.10        1\n",
       "1     3      108      0     8.0       65.0  958507         363.00        1\n",
       "2     4      115      0     7.5       72.0  653299         232.60        1\n",
       "3     7      118      0     7.6       72.0  194512           2.13        0\n",
       "4     8      117      0     6.5       60.0  215403         128.30        1"
      ]
     },
     "execution_count": 5,
     "metadata": {},
     "output_type": "execute_result"
    }
   ],
   "source": [
    "#making data numerical\n",
    "#convert non numerical to numerical using map from scikit\n",
    "d={'Action':0,'Adventure':1,'Animation':2,'Biography':3,'Comedy':4,\n",
    "  'Crime':5,'Drama':6,'Horror':7}\n",
    "df2['Genre']=df2['Genre'].map(d)\n",
    "d={'Y':1, 'N':0}\n",
    "df2['watched']=df2['watched'].map(d)\n",
    "\n",
    "df2.head()"
   ]
  },
  {
   "cell_type": "code",
   "execution_count": 6,
   "id": "08ebec13",
   "metadata": {},
   "outputs": [],
   "source": [
    "#separate features columns from target column\n",
    "features=['Rank','Runtime','Genre','Rating','Metascore',\n",
    "         'Votes','Gross_Earning']\n",
    "X=np.array(df2[features])\n",
    "Y=np.array(df2['watched'])"
   ]
  },
  {
   "cell_type": "code",
   "execution_count": 7,
   "id": "32715f73",
   "metadata": {},
   "outputs": [],
   "source": [
    "from sklearn.naive_bayes import GaussianNB\n",
    "from sklearn.model_selection import train_test_split\n",
    "from sklearn.metrics import accuracy_score,confusion_matrix"
   ]
  },
  {
   "cell_type": "code",
   "execution_count": 8,
   "id": "be643b56",
   "metadata": {},
   "outputs": [],
   "source": [
    "gnb=GaussianNB()\n",
    "XTRAIN,XTEST,YTRAIN,YTEST=train_test_split(X,Y)\n",
    "gnb.fit(XTRAIN,YTRAIN)\n",
    "YP=gnb.predict(XTEST)"
   ]
  },
  {
   "cell_type": "code",
   "execution_count": 9,
   "id": "66406d06",
   "metadata": {},
   "outputs": [
    {
     "name": "stdout",
     "output_type": "stream",
     "text": [
      "[[14  0]\n",
      " [ 6  3]]\n",
      "error= 0.260870\n"
     ]
    }
   ],
   "source": [
    "print(confusion_matrix(YTEST,YP))\n",
    "err=1-accuracy_score(YTEST,YP)\n",
    "print(\"error= %7.6f\" %err)"
   ]
  },
  {
   "cell_type": "code",
   "execution_count": 10,
   "id": "525d8b0d",
   "metadata": {},
   "outputs": [
    {
     "name": "stdout",
     "output_type": "stream",
     "text": [
      "100 Splits: Mean Error=0.300870 +/- 0.165541 (95%)\n",
      "[[10  0]\n",
      " [ 7  6]]\n"
     ]
    }
   ],
   "source": [
    "#repeat naive bayes with 100 splits\n",
    "errs=[]\n",
    "nsplits=100\n",
    "for split in range(nsplits):\n",
    "    XTRAIN,XTEST,YTRAIN,YTEST=train_test_split(X,Y,test_size=.25)\n",
    "    gnb.fit(XTRAIN,YTRAIN)\n",
    "    YP=gnb.predict(XTEST)\n",
    "    errs.append(1-accuracy_score(YTEST,YP))\n",
    "print(\"%d Splits: Mean Error=%7.6f +/- %7.6f (95%%)\"\\\n",
    "        %(nsplits,np.mean(errs),1.96*np.std(errs)))\n",
    "print(confusion_matrix(YTEST,YP))"
   ]
  },
  {
   "cell_type": "code",
   "execution_count": 11,
   "id": "07097ba8",
   "metadata": {},
   "outputs": [
    {
     "data": {
      "text/plain": [
       "(0.13532833933417296, 0.46641079110060957)"
      ]
     },
     "execution_count": 11,
     "metadata": {},
     "output_type": "execute_result"
    }
   ],
   "source": [
    "np.mean(errs)-1.96*np.std(errs), np.mean(errs)+1.96*np.std(errs)"
   ]
  },
  {
   "cell_type": "code",
   "execution_count": null,
   "id": "9aae514f",
   "metadata": {},
   "outputs": [],
   "source": []
  }
 ],
 "metadata": {
  "kernelspec": {
   "display_name": "Python 3",
   "language": "python",
   "name": "python3"
  },
  "language_info": {
   "codemirror_mode": {
    "name": "ipython",
    "version": 3
   },
   "file_extension": ".py",
   "mimetype": "text/x-python",
   "name": "python",
   "nbconvert_exporter": "python",
   "pygments_lexer": "ipython3",
   "version": "3.8.8"
  }
 },
 "nbformat": 4,
 "nbformat_minor": 5
}
